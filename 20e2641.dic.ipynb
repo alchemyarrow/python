{
 "cells": [
  {
   "cell_type": "code",
   "execution_count": 1,
   "id": "8ddaf1d6",
   "metadata": {},
   "outputs": [],
   "source": [
    "Ipl={\"csk\":\"dhoni\",\n",
    "    \"rcb\":\"virat\",\n",
    "    \"DD\":\"sheryas\",\n",
    "    \"MI\":\"rohit\"}"
   ]
  },
  {
   "cell_type": "code",
   "execution_count": 2,
   "id": "2e6b5b1c",
   "metadata": {},
   "outputs": [
    {
     "name": "stdout",
     "output_type": "stream",
     "text": [
      "{'csk': 'dhoni', 'rcb': 'virat', 'DD': 'sheryas', 'MI': 'rohit'}\n"
     ]
    }
   ],
   "source": [
    "print(Ipl)"
   ]
  },
  {
   "cell_type": "code",
   "execution_count": 3,
   "id": "ff33b201",
   "metadata": {},
   "outputs": [],
   "source": [
    "Ipl[\"GT\"]=\"hardik\""
   ]
  },
  {
   "cell_type": "code",
   "execution_count": 4,
   "id": "ed9c48f2",
   "metadata": {},
   "outputs": [
    {
     "name": "stdout",
     "output_type": "stream",
     "text": [
      "{'csk': 'dhoni', 'rcb': 'virat', 'DD': 'sheryas', 'MI': 'rohit', 'GT': 'hardik'}\n"
     ]
    }
   ],
   "source": [
    "print(Ipl)"
   ]
  },
  {
   "cell_type": "code",
   "execution_count": 14,
   "id": "8543b216",
   "metadata": {},
   "outputs": [
    {
     "name": "stdout",
     "output_type": "stream",
     "text": [
      "Initial dictionary : {'csk': 'dhoni', 'rcb': 'virat', 'MI': 'rohit', 'GT': 'hardik'}\n",
      "updated dictionary : {'csk': 'dhoni', 'rcb': 'virat', 'MI': 'rohit', 'GT': 'hardik', 'DD': 'pant'}\n"
     ]
    }
   ],
   "source": [
    "print(\"Initial dictionary :\", Ipl)\n",
    "Ipl[\"DD\"]=\"pant\"\n",
    "print(\"updated dictionary :\", Ipl)"
   ]
  },
  {
   "cell_type": "code",
   "execution_count": 11,
   "id": "a4b11e03",
   "metadata": {},
   "outputs": [
    {
     "data": {
      "text/plain": [
       "5"
      ]
     },
     "execution_count": 11,
     "metadata": {},
     "output_type": "execute_result"
    }
   ],
   "source": [
    "len(Ipl)"
   ]
  },
  {
   "cell_type": "code",
   "execution_count": 13,
   "id": "d6af49b0",
   "metadata": {},
   "outputs": [
    {
     "name": "stdout",
     "output_type": "stream",
     "text": [
      "Initial dictionary : {'csk': 'dhoni', 'rcb': 'virat', 'DD': 'sheryas', 'MI': 'rohit', 'GT': 'hardik'}\n",
      "updated dictionary : {'csk': 'dhoni', 'rcb': 'virat', 'MI': 'rohit', 'GT': 'hardik'}\n"
     ]
    }
   ],
   "source": [
    "print(\"Initial dictionary :\", Ipl)\n",
    "del Ipl[\"DD\"]\n",
    "print(\"updated dictionary :\", Ipl)"
   ]
  },
  {
   "cell_type": "code",
   "execution_count": null,
   "id": "476f0d49",
   "metadata": {},
   "outputs": [],
   "source": []
  }
 ],
 "metadata": {
  "kernelspec": {
   "display_name": "Python 3 (ipykernel)",
   "language": "python",
   "name": "python3"
  },
  "language_info": {
   "codemirror_mode": {
    "name": "ipython",
    "version": 3
   },
   "file_extension": ".py",
   "mimetype": "text/x-python",
   "name": "python",
   "nbconvert_exporter": "python",
   "pygments_lexer": "ipython3",
   "version": "3.9.7"
  }
 },
 "nbformat": 4,
 "nbformat_minor": 5
}
